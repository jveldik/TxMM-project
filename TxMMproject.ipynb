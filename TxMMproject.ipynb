{
  "nbformat": 4,
  "nbformat_minor": 0,
  "metadata": {
    "colab": {
      "provenance": []
    },
    "kernelspec": {
      "name": "python3",
      "display_name": "Python 3"
    },
    "language_info": {
      "name": "python"
    },
    "gpuClass": "standard"
  },
  "cells": [
    {
      "cell_type": "markdown",
      "source": [
        "# Text and multimedia mining project\n",
        "## Research question\n",
        "To what extent do reviews from well-known film critics represent the opinion of the average movie viewer?\n",
        "\n",
        "## Dataset\n",
        "https://www.kaggle.com/datasets/stefanoleone992/rotten-tomatoes-movies-and-critic-reviews-dataset?select=rotten_tomatoes_critic_reviews.csv \n",
        "\n",
        "# Imports"
      ],
      "metadata": {
        "id": "OUzhR-IxmEqi"
      }
    },
    {
      "cell_type": "code",
      "source": [
        "import numpy as np\n",
        "import pandas as pd\n",
        "import nltk\n",
        "import re\n",
        "from sklearn.model_selection import train_test_split\n",
        "from nltk.corpus import stopwords\n",
        "from nltk.tokenize import word_tokenize\n",
        "from sklearn.feature_extraction.text import CountVectorizer\n",
        "from sklearn.feature_extraction.text import TfidfVectorizer\n",
        "from sklearn import svm\n",
        "from sklearn.metrics import f1_score, accuracy_score, precision_score, recall_score\n",
        "import pickle\n",
        "import matplotlib.pyplot as plt\n",
        "\n",
        "nltk.download('stopwords')\n",
        "nltk.download('punkt')\n",
        "nltk.download('averaged_perceptron_tagger')\n",
        "nltk.download('universal_tagset')"
      ],
      "metadata": {
        "id": "G-xm9LWwUxjg",
        "colab": {
          "base_uri": "https://localhost:8080/"
        },
        "outputId": "a29777e0-2e58-4cd5-880f-fb4f7a34b58f"
      },
      "execution_count": null,
      "outputs": [
        {
          "output_type": "stream",
          "name": "stderr",
          "text": [
            "[nltk_data] Downloading package stopwords to\n",
            "[nltk_data]     C:\\Users\\eldik\\AppData\\Roaming\\nltk_data...\n",
            "[nltk_data]   Package stopwords is already up-to-date!\n",
            "[nltk_data] Downloading package punkt to\n",
            "[nltk_data]     C:\\Users\\eldik\\AppData\\Roaming\\nltk_data...\n",
            "[nltk_data]   Package punkt is already up-to-date!\n",
            "[nltk_data] Downloading package averaged_perceptron_tagger to\n",
            "[nltk_data]     C:\\Users\\eldik\\AppData\\Roaming\\nltk_data...\n",
            "[nltk_data]   Package averaged_perceptron_tagger is already up-to-\n",
            "[nltk_data]       date!\n",
            "[nltk_data] Downloading package universal_tagset to\n",
            "[nltk_data]     C:\\Users\\eldik\\AppData\\Roaming\\nltk_data...\n",
            "[nltk_data]   Package universal_tagset is already up-to-date!\n"
          ]
        },
        {
          "output_type": "execute_result",
          "data": {
            "text/plain": [
              "True"
            ]
          },
          "metadata": {},
          "execution_count": 23
        }
      ]
    },
    {
      "cell_type": "markdown",
      "source": [
        "# Data retrieval\n"
      ],
      "metadata": {
        "id": "ziW9mbNQUqND"
      }
    },
    {
      "cell_type": "code",
      "execution_count": null,
      "metadata": {
        "id": "7pa1kBNol7xw",
        "colab": {
          "base_uri": "https://localhost:8080/"
        },
        "outputId": "a6140ba2-461b-496c-b782-fe610c381c24"
      },
      "outputs": [
        {
          "output_type": "stream",
          "name": "stderr",
          "text": [
            "'wget' is not recognized as an internal or external command,\n",
            "operable program or batch file.\n"
          ]
        }
      ],
      "source": [
        "!wget -nc https://transfer.sh/pYLJf7/rotten_tomatoes_critic_reviews.csv"
      ]
    },
    {
      "cell_type": "code",
      "source": [
        "df = pd.read_csv('rotten_tomatoes_critic_reviews.csv')[['top_critic', 'review_score', 'rotten_tomatoes_link', 'review_content']]\n",
        "print(df)"
      ],
      "metadata": {
        "colab": {
          "base_uri": "https://localhost:8080/"
        },
        "id": "x9ehTIDtUaAh",
        "outputId": "73e75066-9195-47b4-b728-76cbb015bc3b"
      },
      "execution_count": null,
      "outputs": [
        {
          "output_type": "stream",
          "name": "stdout",
          "text": [
            "         top_critic review_score rotten_tomatoes_link  \\\n",
            "0             False          NaN            m/0814255   \n",
            "1             False          NaN            m/0814255   \n",
            "2             False          NaN            m/0814255   \n",
            "3             False        3.5/5            m/0814255   \n",
            "4              True          NaN            m/0814255   \n",
            "...             ...          ...                  ...   \n",
            "1130012       False          2/5          m/zulu_dawn   \n",
            "1130013       False        3.5/5          m/zulu_dawn   \n",
            "1130014       False           B+          m/zulu_dawn   \n",
            "1130015       False        3.5/5          m/zulu_dawn   \n",
            "1130016       False            C          m/zulu_dawn   \n",
            "\n",
            "                                            review_content  \n",
            "0        A fantasy adventure that fuses Greek mythology...  \n",
            "1        Uma Thurman as Medusa, the gorgon with a coiff...  \n",
            "2        With a top-notch cast and dazzling special eff...  \n",
            "3        Whether audiences will get behind The Lightnin...  \n",
            "4        What's really lacking in The Lightning Thief i...  \n",
            "...                                                    ...  \n",
            "1130012                                                NaN  \n",
            "1130013  Seen today, it's not only a startling indictme...  \n",
            "1130014  A rousing visual spectacle that's a prequel of...  \n",
            "1130015  A simple two-act story: Prelude to war, and th...  \n",
            "1130016  Rides the line between being a pure artifact o...  \n",
            "\n",
            "[1130017 rows x 4 columns]\n"
          ]
        }
      ]
    },
    {
      "cell_type": "markdown",
      "source": [
        "# Data processing\n",
        "In the dataset there some value are not filled in, those will be removed. Furthermore, the reviews containing characters not used in normal texts will be removed."
      ],
      "metadata": {
        "id": "X94E8_OK91Ax"
      }
    },
    {
      "cell_type": "code",
      "source": [
        "df = df.dropna()\n",
        "\n",
        "def create_mask_special_char(df):\n",
        "    regexpr = re.compile(r'\\@|\\#|\\$|\\%|\\^|\\*|\\||\\<|\\>|\\/')\n",
        "    mask = []\n",
        "    for review in df['review_content']:\n",
        "        if regexpr.search(review) == None:\n",
        "            mask.append(True)\n",
        "        else:\n",
        "            mask.append(False)\n",
        "    return mask\n",
        "\n",
        "df = df[create_mask_special_char(df)]"
      ],
      "metadata": {
        "id": "sT8yYlu3Usuw"
      },
      "execution_count": null,
      "outputs": []
    },
    {
      "cell_type": "markdown",
      "source": [
        "For the review_score several scoring methods are used. To fix this issue all scores will be conversed to a value between 1 and 10 or if that is not possible the reviews will be removed."
      ],
      "metadata": {
        "id": "uIC4NrihUtOO"
      }
    },
    {
      "cell_type": "code",
      "source": [
        "def convert_score(score):\n",
        "    # check if score is a single number\n",
        "    # with single numbers the scale is unknown, so those scores are set to None\n",
        "    if score.isnumeric():\n",
        "        return None\n",
        "\n",
        "    # check if score looks like 'a/b'\n",
        "    elif '/' in score:\n",
        "        a, b = score.split('/')\n",
        "        # check if score looks like 'a/0'\n",
        "        if float(b) in [5.0, 10.0, 100.0]:\n",
        "            score = round(5 * float(a) / float(b))\n",
        "            if score == 0 or score > 5:\n",
        "                return None\n",
        "            else:\n",
        "                return score\n",
        "        else:\n",
        "            return None\n",
        "\n",
        "    # score is letter based\n",
        "    else:\n",
        "        if 'A' in score:\n",
        "            return 5\n",
        "        elif 'B' in score:\n",
        "            return 4\n",
        "        elif 'C' in score:\n",
        "            return 3\n",
        "        elif 'D' in score:\n",
        "            return 2\n",
        "        elif 'F' in score:\n",
        "            return 1\n",
        "        else: \n",
        "            return None\n",
        "\n",
        "df['review_score'] = df['review_score'].map(convert_score)\n",
        "df = df.dropna()\n",
        "df['review_score'] = df['review_score'].astype('int16')"
      ],
      "metadata": {
        "id": "vdDErk4sVAxy"
      },
      "execution_count": null,
      "outputs": []
    },
    {
      "cell_type": "markdown",
      "source": [
        "The column rotten_tomatoes_link contains an id to the information over the movie that is reviewed. This can be used as a feature for the review. So this information will be conversed to a unique integer value for every movie."
      ],
      "metadata": {
        "id": "ZgXw_iQ4UoA9"
      }
    },
    {
      "cell_type": "code",
      "source": [
        "df['rotten_tomatoes_link'] = df['rotten_tomatoes_link'].astype('category').cat.codes\n",
        "df['review_content'] = df['review_content'].astype('string')\n",
        "print(df.dtypes)"
      ],
      "metadata": {
        "colab": {
          "base_uri": "https://localhost:8080/"
        },
        "id": "uCLTfGygS3a2",
        "outputId": "76e694d6-5a78-47d3-99ac-5426c2012c13"
      },
      "execution_count": null,
      "outputs": [
        {
          "output_type": "stream",
          "name": "stdout",
          "text": [
            "top_critic                bool\n",
            "review_score             int16\n",
            "rotten_tomatoes_link     int16\n",
            "review_content          string\n",
            "dtype: object\n"
          ]
        }
      ]
    },
    {
      "cell_type": "markdown",
      "source": [
        "The dataset is quite big and we want an equal distribution from top critics and not top critics, so we select random reviews from the set."
      ],
      "metadata": {
        "id": "1uer-HPLzZeG"
      }
    },
    {
      "cell_type": "code",
      "source": [
        "df = pd.concat([df[df['top_critic']].sample(n=50000, random_state = 1), df[~df['top_critic']].sample(n=50000, random_state = 1)])\n",
        "df = df.reset_index(drop = True)\n",
        "print(df)"
      ],
      "metadata": {
        "id": "tDMGbPl0yjO3",
        "colab": {
          "base_uri": "https://localhost:8080/"
        },
        "outputId": "13d29013-4922-41bc-dce3-5a53d3ddaadd"
      },
      "execution_count": null,
      "outputs": [
        {
          "output_type": "stream",
          "name": "stdout",
          "text": [
            "       top_critic  review_score  rotten_tomatoes_link  \\\n",
            "0            True             4                  6525   \n",
            "1            True             4                 16910   \n",
            "2            True             1                 12357   \n",
            "3            True             2                  4661   \n",
            "4            True             2                  7004   \n",
            "...           ...           ...                   ...   \n",
            "99995       False             2                  5122   \n",
            "99996       False             4                  1597   \n",
            "99997       False             4                 14609   \n",
            "99998       False             1                 13345   \n",
            "99999       False             4                  4284   \n",
            "\n",
            "                                          review_content  \n",
            "0      The film will probably end up preaching to the...  \n",
            "1      Radcliffe is delightful, showcasing a sly, win...  \n",
            "2      Even though the once-and-forever Dude abides b...  \n",
            "3      Coco and Igor manages to drag this sorry, unse...  \n",
            "4      By the end, we're laughing at dialogue that's ...  \n",
            "...                                                  ...  \n",
            "99995  Date Night feels too much like a lame married ...  \n",
            "99996  Jason Statham sports enough stubble to scrape ...  \n",
            "99997  Although it runs down an expected checklist, t...  \n",
            "99998   One of the better Pauly movies, not saying much!  \n",
            "99999  Helmer [Martin] Campbell shows great skill wit...  \n",
            "\n",
            "[100000 rows x 4 columns]\n"
          ]
        }
      ]
    },
    {
      "cell_type": "markdown",
      "source": [
        "# Extracting features\n",
        "Before the features are extracted, the text is preprocessed to reduce the amount of features. The words in the reviews will be marked with Parts of Speech Tagging. Then the words with the right tags will be kept and some extra important words. Furthermore, all words will be converted to lower case and stopwords will be removed."
      ],
      "metadata": {
        "id": "EEcD6JKoW3jS"
      }
    },
    {
      "cell_type": "code",
      "source": [
        "def reduce_features(df):\n",
        "    stop_words = set(stopwords.words('english'))\n",
        "    stop_words.remove('not')\n",
        "    wanted_tags = [\"ADJ\", \"ADV\", \"verb\"]\n",
        "    wanted_words = [\"neither\", \"no\", \"n't\", \"not\", \"nor\", \"none\", \"nobody\", \"although\", \"however\", \"pro\", \"anti\", \"despite\", \"nonetheless\", \"nevertheless\", \"but\"]\n",
        "    reviews = []\n",
        "    for review in df['review_content']:\n",
        "        words = word_tokenize(review)\n",
        "        tagged_words = nltk.pos_tag(words, tagset='universal')\n",
        "        words = []\n",
        "        for word, tag in tagged_words:\n",
        "            word = word.lower()\n",
        "            if word in wanted_words or tag in wanted_tags and word not in stop_words and \"-\" not in word:\n",
        "                words.append(word)\n",
        "        reviews.append(\" \".join(words))\n",
        "    df['review_content'] = reviews\n",
        "    return df\n",
        "    \n",
        "df = reduce_features(df)\n",
        "print(df)"
      ],
      "metadata": {
        "id": "N0Eiwpdeq2T-",
        "colab": {
          "base_uri": "https://localhost:8080/"
        },
        "outputId": "39183c4e-7c9e-47d7-80dd-8bf43562acb8"
      },
      "execution_count": null,
      "outputs": [
        {
          "output_type": "stream",
          "name": "stdout",
          "text": [
            "       top_critic  review_score  rotten_tomatoes_link  \\\n",
            "0            True             4                  6525   \n",
            "1            True             4                 16910   \n",
            "2            True             1                 12357   \n",
            "3            True             2                  4661   \n",
            "4            True             2                  7004   \n",
            "...           ...           ...                   ...   \n",
            "99995       False             2                  5122   \n",
            "99996       False             4                  1597   \n",
            "99997       False             4                 14609   \n",
            "99998       False             1                 13345   \n",
            "99999       False             4                  4284   \n",
            "\n",
            "                                          review_content  \n",
            "0                                  probably surprisingly  \n",
            "1      delightful sly comedic bit twee also undefined...  \n",
            "2                                               even n't  \n",
            "3                   unseemly yet hardly earth barely n't  \n",
            "4                                             serious no  \n",
            "...                                                  ...  \n",
            "99995               much married couple mild tensionless  \n",
            "99996                    enough stubble not slight silly  \n",
            "99997  although expected incredibly likable largely d...  \n",
            "99998                                    better not much  \n",
            "99999                            great huge many copious  \n",
            "\n",
            "[100000 rows x 4 columns]\n"
          ]
        }
      ]
    },
    {
      "cell_type": "code",
      "source": [
        "def extract_TF_IDF(df):\n",
        "    vectorizer = TfidfVectorizer()\n",
        "    vectorizer.fit(df['review_content'].tolist())\n",
        "    vector = vectorizer.transform(df['review_content'].tolist())\n",
        "    return vector\n",
        "\n",
        "vector = extract_TF_IDF(df)\n",
        "print(vector.shape)"
      ],
      "metadata": {
        "id": "BDpAVdE-oGAb",
        "colab": {
          "base_uri": "https://localhost:8080/"
        },
        "outputId": "f00121ae-be40-4f66-c098-2daeabf81d55"
      },
      "execution_count": null,
      "outputs": [
        {
          "output_type": "stream",
          "name": "stdout",
          "text": [
            "(100000, 13540)\n"
          ]
        }
      ]
    },
    {
      "cell_type": "markdown",
      "source": [
        "# Splitting the dataset\n",
        "To train the models, the dataset has to be split up in a training and test sets. Furthermore the dataset has to be split up in reviews from top critics and reviews from not top critics. So in total there will be six sets."
      ],
      "metadata": {
        "id": "mUUknTzUXGFh"
      }
    },
    {
      "cell_type": "code",
      "source": [
        "# split top critics and not top critics\n",
        "tc_df = df[df['top_critic']]\n",
        "ntc_df = df[~df['top_critic']]\n",
        "\n",
        "# split train and test set\n",
        "tc_df_train, tc_df_test = train_test_split(tc_df , random_state=1, shuffle=True)\n",
        "ntc_df_train, ntc_df_test = train_test_split(ntc_df , random_state=1, shuffle=True)"
      ],
      "metadata": {
        "id": "3eJE1ytpXGa5"
      },
      "execution_count": null,
      "outputs": []
    },
    {
      "cell_type": "markdown",
      "source": [
        "# Training the models"
      ],
      "metadata": {
        "id": "8L7WIuFvXvIQ"
      }
    },
    {
      "cell_type": "code",
      "source": [
        "def get_features(data_set, vector):\n",
        "    features = []\n",
        "    for row in data_set.index.values:\n",
        "        features.append(np.append(vector.getrow(row).toarray(), data_set['rotten_tomatoes_link'][row]))\n",
        "    return features"
      ],
      "metadata": {
        "id": "UAGzd1EeKHQJ"
      },
      "execution_count": null,
      "outputs": []
    },
    {
      "cell_type": "code",
      "source": [
        "tc_model = svm.SVC()\n",
        "tc_model.fit(get_features(tc_df_train, vector), list(tc_df_train['review_score']))\n",
        "pickle.dump(tc_model, open(\"tc_model.sav\", 'wb'))"
      ],
      "metadata": {
        "id": "e9hinLOvRX0T"
      },
      "execution_count": null,
      "outputs": []
    },
    {
      "cell_type": "code",
      "source": [
        "ntc_model = svm.SVC()\n",
        "ntc_model.fit(get_features(ntc_df_train, vector), list(ntc_df_train['review_score']))\n",
        "pickle.dump(ntc_model, open(\"ntc_model.sav\", 'wb'))"
      ],
      "metadata": {
        "id": "zcKV5UijRYNx"
      },
      "execution_count": null,
      "outputs": []
    },
    {
      "cell_type": "code",
      "source": [
        "tc_model = pickle.load(open(\"tc_model.sav\", 'rb'))\n",
        "ntc_model = pickle.load(open(\"ntc_model.sav\", 'rb'))"
      ],
      "metadata": {
        "id": "zZ6deuzfK_7H"
      },
      "execution_count": null,
      "outputs": []
    },
    {
      "cell_type": "code",
      "source": [
        "tc_features = get_features(tc_df_test, vector)\n",
        "tc_predictions = tc_model.predict(tc_features)\n",
        "pickle.dump(tc_predictions, open(\"tc_predictions.sav\", 'wb'))"
      ],
      "metadata": {
        "id": "vVIpYFPvDRMv"
      },
      "execution_count": null,
      "outputs": []
    },
    {
      "cell_type": "code",
      "source": [
        "tc_predictions = pickle.load(open(\"tc_predictions.sav\", 'rb'))"
      ],
      "metadata": {
        "id": "83YUtc006Qo5"
      },
      "execution_count": null,
      "outputs": []
    },
    {
      "cell_type": "code",
      "source": [
        "ntc_features = get_features(ntc_df_test, vector)\n",
        "ntc_predictions = ntc_model.predict(ntc_features)\n",
        "pickle.dump(ntc_predictions, open(\"ntc_predictions.sav\", 'wb'))"
      ],
      "metadata": {
        "id": "OctV7Z2eJj8A"
      },
      "execution_count": null,
      "outputs": []
    },
    {
      "cell_type": "code",
      "source": [
        "ntc_predictions = pickle.load(open(\"ntc_predictions.sav\", 'rb'))"
      ],
      "metadata": {
        "id": "5dvbLte96bmL"
      },
      "execution_count": null,
      "outputs": []
    },
    {
      "cell_type": "code",
      "source": [
        "tc_fscore = f1_score(tc_df_test['review_score'], tc_predictions, average='weighted')\n",
        "tc_accuracy = accuracy_score(tc_df_test['review_score'], tc_predictions)\n",
        "tc_recall = recall_score(tc_df_test['review_score'], tc_predictions, average='weighted')\n",
        "tc_precision = precision_score(tc_df_test['review_score'], tc_predictions, average='weighted')\n",
        "print(\"F1-score top critic model: \", tc_fscore)\n",
        "print(\"Accuracy top critic model: \", tc_accuracy)\n",
        "print(\"Recall top critic model: \", tc_recall)\n",
        "print(\"Precision top critic model: \", tc_precision)"
      ],
      "metadata": {
        "id": "ecwzBMShTDKk",
        "colab": {
          "base_uri": "https://localhost:8080/"
        },
        "outputId": "c0a4905d-c2cf-430f-b1e8-04fe868651e5"
      },
      "execution_count": null,
      "outputs": [
        {
          "output_type": "stream",
          "name": "stdout",
          "text": [
            "F1-score top critic model:  0.19301909469852638\n",
            "Accuracy top critic model:  0.36264\n",
            "Recall top critic model:  0.36264\n",
            "Precision top critic model:  0.13150776960000002\n"
          ]
        },
        {
          "output_type": "stream",
          "name": "stderr",
          "text": [
            "C:\\Users\\eldik\\anaconda3\\lib\\site-packages\\sklearn\\metrics\\_classification.py:1318: UndefinedMetricWarning: Precision is ill-defined and being set to 0.0 in labels with no predicted samples. Use `zero_division` parameter to control this behavior.\n",
            "  _warn_prf(average, modifier, msg_start, len(result))\n"
          ]
        }
      ]
    },
    {
      "cell_type": "code",
      "source": [
        "ntc_fscore = f1_score(ntc_df_test['review_score'], ntc_predictions, average='weighted')\n",
        "ntc_accuracy = accuracy_score(ntc_df_test['review_score'], ntc_predictions)\n",
        "ntc_recall = recall_score(ntc_df_test['review_score'], ntc_predictions, average='weighted')\n",
        "ntc_precision = precision_score(ntc_df_test['review_score'], ntc_predictions, average='weighted')\n",
        "print(\"F1-score not top critic model: \", ntc_fscore)\n",
        "print(\"Accuracy not top critic model: \", ntc_accuracy)\n",
        "print(\"Recall not top critic model: \", ntc_recall)\n",
        "print(\"Precision not top critic model: \", ntc_precision)"
      ],
      "metadata": {
        "colab": {
          "base_uri": "https://localhost:8080/"
        },
        "id": "pj4gEX_p3uZr",
        "outputId": "7879c29b-6166-4938-c95c-b12f6b8a997e"
      },
      "execution_count": null,
      "outputs": [
        {
          "output_type": "stream",
          "name": "stdout",
          "text": [
            "F1-score not top critic model:  0.25819272523782877\n",
            "Accuracy not top critic model:  0.4296\n",
            "Recall not top critic model:  0.4296\n",
            "Precision not top critic model:  0.18455615999999997\n"
          ]
        },
        {
          "output_type": "stream",
          "name": "stderr",
          "text": [
            "C:\\Users\\eldik\\anaconda3\\lib\\site-packages\\sklearn\\metrics\\_classification.py:1318: UndefinedMetricWarning: Precision is ill-defined and being set to 0.0 in labels with no predicted samples. Use `zero_division` parameter to control this behavior.\n",
            "  _warn_prf(average, modifier, msg_start, len(result))\n"
          ]
        }
      ]
    },
    {
      "cell_type": "markdown",
      "source": [
        "# Running the models on the other datasets"
      ],
      "metadata": {
        "id": "AQLd4By6YvUg"
      }
    },
    {
      "cell_type": "code",
      "source": [
        "tc_on_ntc_model_predictions = ntc_model.predict(tc_features)\n",
        "pickle.dump(tc_on_ntc_model_predictions, open(\"tc_on_ntc_model_predictions.sav\", 'wb'))"
      ],
      "metadata": {
        "id": "XnQ_FjfIZBsw"
      },
      "execution_count": null,
      "outputs": []
    },
    {
      "cell_type": "code",
      "source": [
        "tc_on_ntc_model_predictions = pickle.load(open(\"tc_on_ntc_model_predictions.sav\", 'rb'))"
      ],
      "metadata": {
        "id": "d6Ya-mWB6hz7"
      },
      "execution_count": null,
      "outputs": []
    },
    {
      "cell_type": "code",
      "source": [
        "ntc_on_tc_model_predictions = tc_model.predict(ntc_features)\n",
        "pickle.dump(ntc_on_tc_model_predictions, open(\"ntc_on_tc_model_predictions.sav\", 'wb'))"
      ],
      "metadata": {
        "id": "rFP0iDI-4Pwe"
      },
      "execution_count": null,
      "outputs": []
    },
    {
      "cell_type": "code",
      "source": [
        "ntc_on_tc_model_predictions = pickle.load(open(\"ntc_on_tc_model_predictions.sav\", 'rb'))"
      ],
      "metadata": {
        "id": "hESB2gNm6my1"
      },
      "execution_count": null,
      "outputs": []
    },
    {
      "cell_type": "code",
      "source": [
        "tc_on_ntc_model_fscore = f1_score(tc_df_test['review_score'], tc_on_ntc_model_predictions, average='weighted')\n",
        "tc_on_ntc_model_accuracy = accuracy_score(tc_df_test['review_score'], tc_on_ntc_model_predictions)\n",
        "tc_on_ntc_model_recall = recall_score(tc_df_test['review_score'], tc_on_ntc_model_predictions, average='weighted')\n",
        "tc_on_ntc_model_precision = precision_score(tc_df_test['review_score'], tc_on_ntc_model_predictions, average='weighted')\n",
        "print(\"F1-score not top critic model on top critic dataset: \", tc_on_ntc_model_fscore)\n",
        "print(\"Accuracy not top critic model on top critic dataset: \", tc_on_ntc_model_accuracy)\n",
        "print(\"Recall not top critic model on top critic dataset: \", tc_on_ntc_model_recall)\n",
        "print(\"Precision not top critic model on top critic dataset: \", tc_on_ntc_model_precision)"
      ],
      "metadata": {
        "colab": {
          "base_uri": "https://localhost:8080/"
        },
        "id": "wqcBzMBU4VMj",
        "outputId": "dc563b4d-0e84-4ccf-931c-809efb0ff95e"
      },
      "execution_count": null,
      "outputs": [
        {
          "output_type": "stream",
          "name": "stdout",
          "text": [
            "F1-score not top critic model on top critic dataset:  0.19301909469852638\n",
            "Accuracy not top critic model on top critic dataset:  0.36264\n",
            "Recall not top critic model on top critic dataset:  0.36264\n",
            "Precision not top critic model on top critic dataset:  0.13150776960000002\n"
          ]
        },
        {
          "output_type": "stream",
          "name": "stderr",
          "text": [
            "C:\\Users\\eldik\\anaconda3\\lib\\site-packages\\sklearn\\metrics\\_classification.py:1318: UndefinedMetricWarning: Precision is ill-defined and being set to 0.0 in labels with no predicted samples. Use `zero_division` parameter to control this behavior.\n",
            "  _warn_prf(average, modifier, msg_start, len(result))\n"
          ]
        }
      ]
    },
    {
      "cell_type": "code",
      "source": [
        "ntc_on_tc_model_fscore = f1_score(ntc_df_test['review_score'], ntc_on_tc_model_predictions, average='weighted')\n",
        "ntc_on_tc_model_accuracy = accuracy_score(ntc_df_test['review_score'], ntc_on_tc_model_predictions)\n",
        "ntc_on_tc_model_recall = recall_score(ntc_df_test['review_score'], ntc_on_tc_model_predictions, average='weighted')\n",
        "ntc_on_tc_model_precision = precision_score(ntc_df_test['review_score'], ntc_on_tc_model_predictions, average='weighted')\n",
        "print(\"F1-score not top critic model on top critic dataset: \", ntc_on_tc_model_fscore)\n",
        "print(\"Accuracy not top critic model on top critic dataset: \", ntc_on_tc_model_accuracy)\n",
        "print(\"Recall not top critic model on top critic dataset: \", ntc_on_tc_model_recall)\n",
        "print(\"Precision not top critic model on top critic dataset: \", ntc_on_tc_model_precision)"
      ],
      "metadata": {
        "colab": {
          "base_uri": "https://localhost:8080/"
        },
        "id": "-ShZVXqg4XQB",
        "outputId": "491615be-bd3a-4ab2-c726-083fac342dfb"
      },
      "execution_count": null,
      "outputs": [
        {
          "output_type": "stream",
          "name": "stdout",
          "text": [
            "F1-score not top critic model on top critic dataset:  0.25819272523782877\n",
            "Accuracy not top critic model on top critic dataset:  0.4296\n",
            "Recall not top critic model on top critic dataset:  0.4296\n",
            "Precision not top critic model on top critic dataset:  0.18455615999999997\n"
          ]
        },
        {
          "output_type": "stream",
          "name": "stderr",
          "text": [
            "C:\\Users\\eldik\\anaconda3\\lib\\site-packages\\sklearn\\metrics\\_classification.py:1318: UndefinedMetricWarning: Precision is ill-defined and being set to 0.0 in labels with no predicted samples. Use `zero_division` parameter to control this behavior.\n",
            "  _warn_prf(average, modifier, msg_start, len(result))\n"
          ]
        }
      ]
    },
    {
      "cell_type": "markdown",
      "source": [
        "# Evaluation"
      ],
      "metadata": {
        "id": "EDQIMpAyp3Nn"
      }
    },
    {
      "cell_type": "code",
      "source": [
        "print(\"Average of top critic scores:\", sum(tc_df_test['review_score']) / len(tc_df_test['review_score']))\n",
        "print(\"Average of not top critic scores:\", sum(ntc_df_test['review_score']) / len(ntc_df_test['review_score']))"
      ],
      "metadata": {
        "colab": {
          "base_uri": "https://localhost:8080/"
        },
        "id": "9NDvWS8QyUqe",
        "outputId": "5e949a0b-e72d-4b3d-aa63-e0ffdd3aef1f"
      },
      "execution_count": null,
      "outputs": [
        {
          "output_type": "stream",
          "name": "stdout",
          "text": [
            "Average of top critic scores: 3.18712\n",
            "Average of not top critic scores: 3.32112\n"
          ]
        }
      ]
    },
    {
      "cell_type": "code",
      "source": [
        "plt.hist(tc_df_test['review_score'])\n",
        "plt.title(\"Distribution of top critic review scores\")\n",
        "plt.xlabel(\"Score\")\n",
        "plt.ylabel(\"Amount\")\n",
        "plt.xticks([1,2,3,4,5])\n",
        "plt.show()\n",
        "\n",
        "plt.hist(ntc_df_test['review_score'])\n",
        "plt.title(\"Distribution of not top critic review scores\")\n",
        "plt.xlabel(\"Score\")\n",
        "plt.ylabel(\"Amount\")\n",
        "plt.xticks([1,2,3,4,5])\n",
        "plt.show()\n",
        "\n",
        "plt.hist(tc_predictions)\n",
        "plt.title(\"Distribution of predictions from the top critic model on top critic reviews\")\n",
        "plt.xlabel(\"Score\")\n",
        "plt.ylabel(\"Amount\")\n",
        "plt.xticks([1,2,3,4,5])\n",
        "plt.show()\n",
        "\n",
        "plt.hist(ntc_predictions)\n",
        "plt.title(\"Distribution of predictions from the not top critic model on not top critic reviews\")\n",
        "plt.xlabel(\"Score\")\n",
        "plt.ylabel(\"Amount\")\n",
        "plt.xticks([1,2,3,4,5])\n",
        "plt.show()\n",
        "\n",
        "plt.hist(tc_on_ntc_model_predictions)\n",
        "plt.title(\"Distribution of predictions from the top critic model on not top critic reviews\")\n",
        "plt.xlabel(\"Score\")\n",
        "plt.ylabel(\"Amount\")\n",
        "plt.xticks([1,2,3,4,5])\n",
        "plt.show()\n",
        "\n",
        "plt.hist(ntc_on_tc_model_predictions)\n",
        "plt.title(\"Distribution of predictions from the not top critic model on top critic reviews\")\n",
        "plt.xlabel(\"Score\")\n",
        "plt.ylabel(\"Amount\")\n",
        "plt.xticks([1,2,3,4,5])\n",
        "plt.show()"
      ],
      "metadata": {
        "colab": {
          "base_uri": "https://localhost:8080/",
          "height": 1000
        },
        "id": "zAocMp2bp5cr",
        "outputId": "97f2e2d9-4e33-4555-c3a4-bf4a8cd2e8b1"
      },
      "execution_count": null,
      "outputs": [
        {
          "output_type": "display_data",
          "data": {
            "text/plain": [
              "<Figure size 432x288 with 1 Axes>"
            ],
            "image/png": "[encoded data removed]"
          },
          "metadata": {
            "needs_background": "light"
          }
        },
        {
          "output_type": "display_data",
          "data": {
            "text/plain": [
              "<Figure size 432x288 with 1 Axes>"
            ],
            "image/png": "[encoded data removed]"
          },
          "metadata": {
            "needs_background": "light"
          }
        },
        {
          "output_type": "display_data",
          "data": {
            "text/plain": [
              "<Figure size 432x288 with 1 Axes>"
            ],
            "image/png": "[encoded data removed]"
          },
          "metadata": {
            "needs_background": "light"
          }
        },
        {
          "output_type": "display_data",
          "data": {
            "text/plain": [
              "<Figure size 432x288 with 1 Axes>"
            ],
            "image/png": "[encoded data removed]"
          },
          "metadata": {
            "needs_background": "light"
          }
        },
        {
          "output_type": "display_data",
          "data": {
            "text/plain": [
              "<Figure size 432x288 with 1 Axes>"
            ],
            "image/png": "[encoded data removed]"
          },
          "metadata": {
            "needs_background": "light"
          }
        },
        {
          "output_type": "display_data",
          "data": {
            "text/plain": [
              "<Figure size 432x288 with 1 Axes>"
            ],
            "image/png": "[encoded data removed]"
          },
          "metadata": {
            "needs_background": "light"
          }
        }
      ]
    }
  ]
}